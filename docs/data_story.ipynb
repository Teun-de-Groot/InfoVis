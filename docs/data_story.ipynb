{
  "cells": [
    {
      "cell_type": "code",
      "execution_count": null,
      "metadata": {
        "tags": [
          "hide-cell"
        ]
      },
      "outputs": [],
      "source": [
        "!pip install tqdm\n",
        "!pip install nbclient"
      ]
    },
    {
      "cell_type": "code",
      "execution_count": null,
      "metadata": {
        "tags": [
          "hide-cell"
        ]
      },
      "outputs": [],
      "source": [
        "import pandas as pd\n",
        "import matplotlib.pyplot as plt\n",
        "from tqdm import trange\n",
        "import numpy as np\n",
        "import seaborn as sns\n",
        "import plotly.express as px\n",
        "import plotly.graph_objects as go\n",
        "\n",
        "conv_data = pd.read_csv(\"datasets\\\\owid-covid-data.csv\")\n",
        "trade_data = pd.read_csv(\"datasets\\\\dataset-covid19-trade-impact.csv\")\n",
        "\n",
        "dates = []\n",
        "for t in trange(len(trade_data['Date'])):\n",
        "    date = trade_data['Date'].iloc[t].split('/')\n",
        "    dates.append(date[2] + '-' + date[1] + '-' + date[0])\n",
        "trade_data['date'] = dates\n",
        "del trade_data['Date']"
      ]
    },
    {
      "cell_type": "code",
      "execution_count": null,
      "metadata": {
        "tags": [
          "hide-cell"
        ]
      },
      "outputs": [],
      "source": [
        "p = conv_data[['date','stringency_index']].dropna().groupby(['date']).mean()\n",
        "p['date'] = p.index\n",
        "\n",
        "trade_data = trade_data[trade_data['Country'] == 'All']\n",
        "trade_data = trade_data[trade_data['Commodity'] == 'All']\n",
        "trade_data = trade_data[trade_data['Transport_Mode'] == 'All']\n",
        "del trade_data['Year'], trade_data['Country'], trade_data['Commodity'], trade_data['Transport_Mode'], trade_data['Measure'], trade_data['Weekday']\n",
        "export_data = trade_data[trade_data['Direction'] == 'Exports']\n",
        "import_data = trade_data[trade_data['Direction'] == 'Imports']\n",
        "reimport_data = trade_data[trade_data['Direction'] == 'Reimports']\n",
        "tot_import_data = pd.merge(import_data,reimport_data,on='date')\n",
        "tot_import_data['Value'] = tot_import_data['Value_x'] + tot_import_data['Value_y']\n",
        "tot_import_data['Direction'] = tot_import_data['Direction_x']\n",
        "del tot_import_data['Value_x'], tot_import_data['Value_y'], tot_import_data['Cumulative_x'], tot_import_data['Cumulative_y'], tot_import_data['Direction_x'], tot_import_data['Direction_y']\n",
        "import_data = tot_import_data.copy()\n",
        "import_data['Value_smooth'] = import_data['Value'].rolling(45).mean()\n",
        "export_data['Value_smooth'] = export_data['Value'].rolling(45).mean()\n",
        "del tot_import_data\n",
        "\n",
        "conv_data = conv_data[conv_data['location'] == 'World']\n",
        "data = pd.concat([import_data,export_data])"
      ]
    },
    {
      "cell_type": "markdown",
      "metadata": {},
      "source": [
        "# The impact van COVID-19 op de wereldhandel  \n",
        "\n",
        "Jasper Wormsbecher, 14953110   \n",
        "Doede Cerutti, 14948095  \n",
        "Teun de Groot, 14892499  \n",
        "Guido Chung, 15113248  \n",
        "Team number: F1  "
      ]
    },
    {
      "cell_type": "markdown",
      "metadata": {
        "tags": [
          "hide-input"
        ]
      },
      "source": [
        "![image_boat](/InfoVis/docs/images/image_boat.png)"
      ]
    },
    {
      "cell_type": "markdown",
      "metadata": {},
      "source": [
        "## Introductie  \n",
        "\n",
        "De coronacrisis heeft een grote impact gehad op verschillende sectoren, zoals onderwijs, economie en gezondheidszorg. Deze situatie heeft ertoe geleid dat mensen zoveel mogelijk geïsoleerd moesten worden om de verspreiding van het virus te beperken.\n",
        "De COVID-19 pandemie heeft de wereldhandel verstoord, wat gevolgen had voor import, export en economische stabiliteit in verschillende regio's en sectoren. Dit project onderzoekt de impact van de pandemie op de handel door trends, verschuivingen en herstel te analyseren. We verkennen meerdere perspectieven om een uitgebreid inzicht te geven in hoe de pandemie de dynamiek van de wereldhandel heeft beïnvloed.\n",
        "\n",
        "## Dataset en Preprocessing  \n",
        "\n",
        "1. Wereldhandelsdata (https://github.com/farhansadeed/Python-COVID-19-Trade-Impact-Data-Analysis) \n",
        "2. Covid-19 data (https://covid.ourworldindata.org/data/owid-covid-data.csv)\n",
        "\n",
        "We hebben gebruikgemaakt van twee datasets, geselecteerd om zowel de wereldhandel als de COVID-19 crisis te analyseren. Hierbij hebben we ervoor gekozen om ons uitsluitend op wereldwijde gegevens te richten, waardoor we geen uitspraken kunnen doen over individuele landen.\n",
        "\n",
        "Om de gegevens op te schonen, hebben we kolommen hernoemd en geherstructureerd voor samenvoeging. We hebben de kolommen handmatig geïnspecteerd en samengevoegd op basis van overeenkomende namen of inhoud. Tijdens dit proces hebben we meteen de niet-relevante kolommen verwijderd.\n",
        "\n",
        "\n",
        "Hierna zijn de totaal 77 columns en samen 514232 rijen gereduceerd tot een dataset van 31 columns met 711 rijen. Voor sommige visualisaties worden de individuele datasets gebruikt.\n",
        "Variable descriptions\n",
        "\n",
        "Voor sommige visualisaties worden de individuele datasets gebruikt.  \n",
        "**De variabelen in de uiteindelijke dataset omvatten:**  \n",
        "\n",
        "**Continuous / Ratio variables:** total_cases, new_cases, new_cases_smoothed, total_deaths,new_deaths, new_deaths_smoothed, total_cases_per_million,new_cases_per_million, new_cases_smoothed_per_million,total_deaths_per_million, new_deaths_per_million,new_deaths_smoothed_per_million, total_vaccinations, people_vaccinated, people_fully_vaccinated,total_boosters, new_vaccinations, new_vaccinations_smoothed,total_vaccinations_per_hundred, people_vaccinated_per_hundred,people_fully_vaccinated_per_hundred, total_boosters_per_hundred,new_vaccinations_smoothed_per_million,new_people_vaccinated_smoothed,new_people_vaccinated_smoothed_per_hundred, Value_x, Cumulative_x, Value_y, Cumulative_y, reproduction_rate  \n",
        "**discrete / interval:** ‘date’  \n",
        "\n",
        "**De variabelen in de covid-19 dataset variabele:**  \n",
        "\n",
        "**discrete / nominal:** iso_code, location  \n",
        "**discrete / interval:** date  \n",
        "**continues / ratio:** total_cases, new_cases, new_cases_smoothed, total_deaths, new_deaths, new_deaths_smoothed, total_cases_per_million, new_cases_per_million, new_cases_smoothed_per_million, total_deaths_per_million, new_deaths_per_million, new_deaths_smoothed_per_million, reproduction_rate, icu_patients, icu_patients_per_million, hosp_patients, hosp_patients_per_million, weekly_icu_admissions, weekly_icu_admissions_per_million, weekly_hosp_admissions, weekly_hosp_admissions_per_million, total_tests, new_tests, total_tests_per_thousand, new_tests_per_thousand,new_tests_smoothed, new_tests_smoothed_per_thousand, positive_rate, tests_per_case, tests_units, total_vaccinations, people_vaccinated, people_fully_vaccinated, total_boosters, new_vaccinations, new_vaccinations_smoothed, total_vaccinations_per_hundred, people_vaccinated_per_hundred, people_fully_vaccinated_per_hundred, total_boosters_per_hundred, new_vaccinations_smoothed_per_million, new_people_vaccinated_smoothed, new_people_vaccinated_smoothed_per_hundred, stringency_index, population_density, median_age, aged_65_older, aged_70_older, gdp_per_capita, extreme_poverty, cardiovasc_death_rate, diabetes_prevalence, female_smokers, male_smokers, handwashing_facilities, hospital_beds_per_thousand, life_expectancy, human_development_index, population, excess_mortality_cumulative_absolute, excess_mortality_cumulative, excess_mortality, excess_mortality_cumulative_per_million\n",
        "\n",
        "**De variabelen in de economische dataset variabele:**  \n",
        "\n",
        "**discrete / nominal:** 'Direction'  \n",
        "**discrete / interval:** ‘date’  \n",
        "**continues / ratio:** 'Value', 'Cumulative'  \n",
        "\n",
        "## De invloed van vaccinaties op de zorg en overheidsmaatregelen  \n",
        "\n",
        "Vaccinaties spelen een cruciale rol in de verbetering van de wereldgezondheid. Door het voorkomen van ernstige ziektes en het verminderen van de verspreiding van besmettelijke aandoeningen, dragen vaccinaties bij aan een algehele verbetering van de medische situatie wereldwijd.  \n",
        "\n",
        "### Doden veroorzaakt door covid-19  \n",
        "\n",
        "Om te kunnen bepalen of de vaccinaties beter waren voor de wereld op medisch gebied moeten we eerst specificeren wat “goed” is. Hierbij gaan we analyseren of de vaccinaties ervoor gezorgd hebben dat er minder doden en totale gevallen waren.  "
      ]
    },
    {
      "cell_type": "code",
      "execution_count": null,
      "metadata": {
        "tags": [
          "hide-input"
        ]
      },
      "outputs": [],
      "source": [
        "p.index = np.arange(len(p))\n",
        "con = pd.merge(p,conv_data[['total_vaccinations_per_hundred', 'total_cases', 'new_deaths_smoothed_per_million','date']], on='date')\n",
        "sns.heatmap(con[['stringency_index','total_vaccinations_per_hundred', 'total_cases', 'new_deaths_smoothed_per_million']].corr(),)\n",
        "plt.show()"
      ]
    },
    {
      "cell_type": "markdown",
      "metadata": {},
      "source": [
        "We hebben ontdekt dat er een correlatie bestaat tussen vaccinaties en de totale hoeveelheid doden in de wereld. Wanneer de vaccinaties omhoog gaan, gaan de vaccinaties ook omhoog. Dit komt niet omdat vaccinaties doden veroorzaken. Maar omdat corona doden veroorzaakt en de vaccinatiegraad ook langzaam over tijd omhoog gaat. Hierdoor heb je een correlatie, maar geen causaliteit. Wanneer de vaccinatiegraad omhoog gaat, dan zijn er minder nieuwe doden, omdat er een zware negatieve correlatie is tussen de vaccinatiegraad en de hoeveelheid nieuwe doden.  \n",
        "\n",
        "Verder vonden kijken we naar de stringency index, dit is een samengestelde maatstaf die de strengheid van overheidsmaatregelen in reactie op de COVID-19-pandemie kwantificeert. Deze index maakt deel uit van de Oxford COVID-19 Government Response Tracker (OxCGRT) en wordt berekend met de deze formule:  "
      ]
    },
    {
      "cell_type": "markdown",
      "metadata": {
        "tags": [
          "hide-input"
        ]
      },
      "source": [
        "![image_index](/InfoVis/docs/images/image_index.png)"
      ]
    },
    {
      "cell_type": "markdown",
      "metadata": {},
      "source": [
        "De index wordt berekend aan de hand van de volgende maatregelen:\n",
        "- Sluiting van scholen\n",
        "- Sluiting van werkplekken\n",
        "- Annulering van publieke evenementen\n",
        "- Beperkingen op bijeenkomsten\n",
        "- Sluiting van openbaar vervoer\n",
        "- Blijf-thuis voorschriften\n",
        "- Beperkingen op interne verplaatsingen\n",
        "- Internationale reisbeperkingen\n",
        "- Publieke voorlichtingscampagnes  \n",
        "\n",
        "De index varieert van 0 tot 100, waarbij hogere waarden een strengere overheidsreactie aangeven.\n",
        "In het kort, de hoeveelheid maatregelen die een overheid nam om de corona crisis te beteugelen. Hierdoor kunnen we het beleid van de overheden meenemen in de conclusie. We kunnen zeggen dat de vaccinatie 1 van de factoren is geweest die ervoor heeft gezorgd dat minder doden zijn gevallen, omdat tijd of natuurlijke blootstelling aan het virus ook een factor kan zijn.\n"
      ]
    },
    {
      "cell_type": "code",
      "execution_count": null,
      "metadata": {
        "tags": [
          "hide-input"
        ]
      },
      "outputs": [],
      "source": [
        "fig = px.scatter(conv_data, 'total_vaccinations_per_hundred','new_deaths_smoothed_per_million',title='total_vaccinations_per_hundred vs new_deaths_smoothed_per_million')\n",
        "fig.show()\n"
      ]
    },
    {
      "cell_type": "markdown",
      "metadata": {},
      "source": [
        "\n",
        "### Nieuwe gevallen  \n",
        "\n",
        "Verder zouden we graag willen weten hoe de vaccinatiegraad de hoeveelheid corona gevallen beïnvloed. "
      ]
    },
    {
      "cell_type": "code",
      "execution_count": null,
      "metadata": {
        "tags": [
          "hide-input"
        ]
      },
      "outputs": [],
      "source": [
        "\n",
        "fig = px.scatter(conv_data, 'total_vaccinations_per_hundred','new_cases_smoothed_per_million', title='total_vaccinations_per_hundred vs new_cases_smoothed_per_million')\n",
        "fig.show()"
      ]
    },
    {
      "cell_type": "markdown",
      "metadata": {},
      "source": [
        "We vinden geen correlatie tussen de vaccinatiegraad en nieuwe gevallen van corona. Hierdoor kunnen we niet vaststellen dat een vaccinatie helpt bij het verminderen van de verspreiding van corona. Zoals wij het hier zien, heb je een vrij constante hoeveelheid mensen die ziek worden van het virus, ook al zien we wel wanneer de vaccinatiegraad hoger ligt dat er een stijging van nieuwe corona gevallen is. Hier hebben wij geen goede verklaring voor. Maar we kunnen speculeren dat dit een geval is van toeval. Verder is het ook belangrijk om dit te melden, want dan weten we in de toekomst wat een vaccinatie wel en niet bestrijdt.\n",
        "\n",
        "We kunnen deze 2 argumenten samen zetten en dan krijgen we de volgende figuur.\n"
      ]
    },
    {
      "cell_type": "code",
      "execution_count": null,
      "metadata": {
        "tags": [
          "hide-input"
        ]
      },
      "outputs": [],
      "source": [
        "d = conv_data[['population','total_cases','total_deaths']]\n",
        "\n",
        "d.dropna(inplace=True)\n",
        "\n",
        "\n",
        "fig = go.Figure(go.Funnelarea(\n",
        "    labels=[\"population\", \"total_cases\", \"total_deaths\"],\n",
        "    text = [\"population\",\"total_cases\", \"total_deaths\"],\n",
        "    values = [d['population'].iloc[-1], d['total_cases'].iloc[-1], d['total_deaths'].iloc[-1]]\n",
        "    ))\n",
        "fig.update_layout(\n",
        "    title_text=\"verhouding populatie, total cases en total deaths\",\n",
        ")\n",
        "fig.show()"
      ]
    },
    {
      "cell_type": "markdown",
      "metadata": {},
      "source": [
        "\n",
        "Hierin is te zien, dat een groot deel van de bevolking volgens onze data corona heeft gekregen. Dit kan komen omdat het in bepaalde delen van de wereld het moeilijk is om te bepalen hoeveel corona gevallen er daadwerkelijk aanwezig zijn. Wat we wel hieruit kunnen concluderen is dat er maar een kleine kans is om van corona dood te gaan. Dit is niet te zien in het figuurtje aangezien het percentage zo klein is. \n",
        "Het onderdeel \"total deaths\" heeft maar een grootte van 0.08%.\n",
        "\n",
        "## De invloed van vaccinaties op de economie\n",
        "\n",
        "De invloed van vaccinaties op de economie is aanzienlijk en veelzijdig. Vaccinaties spelen een belangrijke rol in het bevorderen van economische stabiliteit en groei wereldwijd.  \n",
        "\n",
        "### Handelsactiviteit\n",
        "\n",
        "In 2021 zien we een significante toename in het aantal vaccinaties. Dit valt samen met een herstellende trend in zowel de import- als exportwaarden, die in 2020 een dip vertonen. Deze gelijktijdige beweging suggereert een correlatie tussen het aantal vaccinaties en het herstel van de handelsactiviteiten.\n"
      ]
    },
    {
      "cell_type": "code",
      "execution_count": null,
      "metadata": {
        "tags": [
          "hide-input"
        ]
      },
      "outputs": [],
      "source": [
        "conv_data = conv_data[conv_data['location'] == 'World']\n",
        "data = pd.concat([import_data,export_data])\n",
        "sns.heatmap(pd.merge(data,conv_data,on='date')[['Value_smooth','total_vaccinations_per_hundred']].corr())\n",
        "plt.show()"
      ]
    },
    {
      "cell_type": "markdown",
      "metadata": {},
      "source": [
        "\n",
        "De stijging van het aantal vaccinaties zou hebben kunnen bijdragen aan het heropenen van economieën, wat mogelijk resulteerde in verhoogde economische activiteit. Dit herstel lijkt weerspiegeld te worden in de import- en exportsectoren, zoals te zien is in de grafiek. Naarmate de bevolking gevaccineerd werd, nam wellicht het vertrouwen van bedrijven en consumenten toe, wat mogelijk heeft bijgedragen aan een toename van de handelsactiviteiten.  "
      ]
    },
    {
      "cell_type": "code",
      "execution_count": null,
      "metadata": {
        "tags": [
          "hide-input"
        ]
      },
      "outputs": [],
      "source": [
        "\n",
        "fig = px.line(data,x='date',y='Value_smooth', color='Direction')\n",
        "fig.add_trace(\n",
        "    go.Scatter(\n",
        "            x=conv_data['date'],\n",
        "            y=conv_data['total_vaccinations_per_hundred'],\n",
        "            yaxis=\"y2\",\n",
        "            name='total_vaccinations_per_hundred'\n",
        "        ),\n",
        ")\n",
        "\n",
        "fig.update_layout(\n",
        "    xaxis=dict(\n",
        "        domain=[0.05, 0.95]\n",
        "    ),\n",
        "    yaxis=dict(\n",
        "        title=\"Value Smooth\",\n",
        "        titlefont=dict(\n",
        "            color=\"#1f77b4\"\n",
        "        ),\n",
        "        tickfont=dict(\n",
        "            color=\"#1f77b4\"\n",
        "        )\n",
        "    ),\n",
        "    yaxis2=dict(\n",
        "        title=\"total_vaccinations_per_hundred\",\n",
        "        titlefont=dict(\n",
        "            color=\"#ff7f0e\"\n",
        "        ),\n",
        "        tickfont=dict(\n",
        "            color=\"#ff7f0e\"\n",
        "        ),\n",
        "        anchor=\"free\",\n",
        "        overlaying=\"y\",\n",
        "        side=\"left\",\n",
        "        position=0\n",
        "    ),\n",
        "    yaxis3=dict(\n",
        "        title=\"yaxis3 title\",\n",
        "        titlefont=dict(\n",
        "            color=\"#d62728\"\n",
        "        ),\n",
        "        tickfont=dict(\n",
        "            color=\"#d62728\"\n",
        "        ),\n",
        "        anchor=\"x\",\n",
        "        overlaying=\"y\",\n",
        "        side=\"right\"\n",
        "    ),\n",
        "    yaxis4=dict(\n",
        "        title=\"yaxis4 title\",\n",
        "        titlefont=dict(\n",
        "            color=\"#9467bd\"\n",
        "        ),\n",
        "        tickfont=dict(\n",
        "            color=\"#9467bd\"\n",
        "        ),\n",
        "        anchor=\"free\",\n",
        "        overlaying=\"y\",\n",
        "        side=\"right\",\n",
        "        position=1\n",
        "    )\n",
        ")\n",
        "\n",
        "# Update layout properties\n",
        "fig.update_layout(\n",
        "    title_text=\"vaccinatie-graad en import vs time\",\n",
        ")\n",
        "\n",
        "fig.show()"
      ]
    },
    {
      "cell_type": "markdown",
      "metadata": {},
      "source": [
        "### Overheidsmaatregelen  \n",
        "\n",
        "Het is bekend dat beleidsmaatregelen zoals lockdowns en reisbeperkingen, gemeten door de Stringency Index, een aanzienlijke invloed hebben op internationale handelsstromen, waaronder import en export(Amador et al., 2023). Een analyse van de dataset toont een duidelijk verband tussen deze beleidsmaatregelen en schommelingen in import- en export waarden. De grafiek toont de import- en export waarden over de tijd, evenals de Global Stringency Index.  "
      ]
    },
    {
      "cell_type": "code",
      "execution_count": null,
      "metadata": {
        "tags": [
          "hide-input"
        ]
      },
      "outputs": [],
      "source": [
        "\n",
        "fig = px.line(data,x='date',y='Value_smooth', color='Direction')\n",
        "fig.add_trace(\n",
        "    go.Scatter(\n",
        "            x=p['date'],\n",
        "            y=p['stringency_index'],\n",
        "            yaxis=\"y2\",\n",
        "            name='Global Stringency Index'\n",
        "        ),\n",
        ")\n",
        "\n",
        "fig.update_layout(\n",
        "    xaxis=dict(\n",
        "        domain=[0.05, 0.95]\n",
        "    ),\n",
        "    yaxis=dict(\n",
        "        title=\"Value Smooth\",\n",
        "        titlefont=dict(\n",
        "            color=\"#1f77b4\"\n",
        "        ),\n",
        "        tickfont=dict(\n",
        "            color=\"#1f77b4\"\n",
        "        )\n",
        "    ),\n",
        "    yaxis2=dict(\n",
        "        title=\"Stringency Index\",\n",
        "        titlefont=dict(\n",
        "            color=\"#ff7f0e\"\n",
        "        ),\n",
        "        tickfont=dict(\n",
        "            color=\"#ff7f0e\"\n",
        "        ),\n",
        "        anchor=\"free\",\n",
        "        overlaying=\"y\",\n",
        "        side=\"left\",\n",
        "        position=0\n",
        "    ),\n",
        "    yaxis3=dict(\n",
        "        title=\"yaxis3 title\",\n",
        "        titlefont=dict(\n",
        "            color=\"#d62728\"\n",
        "        ),\n",
        "        tickfont=dict(\n",
        "            color=\"#d62728\"\n",
        "        ),\n",
        "        anchor=\"x\",\n",
        "        overlaying=\"y\",\n",
        "        side=\"right\"\n",
        "    ),\n",
        "    yaxis4=dict(\n",
        "        title=\"yaxis4 title\",\n",
        "        titlefont=dict(\n",
        "            color=\"#9467bd\"\n",
        "        ),\n",
        "        tickfont=dict(\n",
        "            color=\"#9467bd\"\n",
        "        ),\n",
        "        anchor=\"free\",\n",
        "        overlaying=\"y\",\n",
        "        side=\"right\",\n",
        "        position=1\n",
        "    )\n",
        ")\n",
        "\n",
        "# Update layout properties\n",
        "fig.update_layout(\n",
        "    title_text=\"stringency index en import vs time\",\n",
        ")\n",
        "\n",
        "fig.show()"
      ]
    },
    {
      "cell_type": "markdown",
      "metadata": {},
      "source": [
        "\n",
        "\n",
        "Tijdens periodes waarin de Stringency Index stijgt, wat wijst op strikte maatregelen zoals lockdowns, zien we een duidelijke daling in zowel import- als export waarden. Dit komt doordat strenge maatregelen leiden tot verstoringen in de toeleveringsketen. Bijvoorbeeld, tijdens de COVID-19-pandemie in 2020 en begin 2021, is er een duidelijke afname in handelsactiviteiten zichtbaar.\n",
        "Naarmate de Stringency Index daalt en maatregelen versoepelen, zien we een herstel in zowel import- als exportwaarden. Dit herstel weerspiegelt de hernieuwde economische activiteit en hervatting van internationale handel na het terugdraaien van overheidsinmenging.  \n",
        "\n",
        "## Feedback en Reflectie  \n",
        "\n",
        "Op 25 juni 2024 is onze groep bijeengekomen op Science Park voor het feedbackmoment. Hier zijn een aantal zwakke punten van het project aangekaart.  \n",
        "\n",
        "- Ten tijde van het feedbackmoment maakten we nog enkel gebruik van lijngrafieken, het advies was dan ook meer verschillende soorten grafieken te gebruiken. Hierdoor komt de boodschap die we over willen brengen met de data beter tot zijn recht.  \n",
        "- Alle grafieken waar we gebruik van maakten hadden variabelen op de y-as en tijd op de x-as. Het advies was andere variabelen dan enkel de tijd op de x-as te gebruiken.  \n",
        "- Twee plots die los van elkaar staan en beiden tijd op de x-as hebben, kunnen niet zomaar met elkaar vergeleken worden. Oftewel voorzichtiger taalgebruik; plots geven enkel correlaties weer. We concludeerden bijvoorbeeld dat er een causaal verband is tussen een hogere vaccinatiegraad en een kleinere stringency index hoewel dit enkel correlatie is.  \n",
        "- Een van de grafieken waar we gebruik van maakten gaf cumulatief de covid-19 cases van elk land in de wereld apart weer, met een dikkere lijn om de gemiddelde trend aan te geven. Dit was erg onoverzichtelijk.  \n",
        "\n",
        "Reflecterend op het verloop van het project zijn er twee dingen waar we op vastliepen.  \n",
        "\n",
        "Ten eerste hebben we erg geworsteld met het vinden van een goed onderwerp. Dit is het gevolg van gebrekkig onderzoek naar correlaties tussen de datasets waar we destijds gebruik van maakten. Om deze reden gaat onze final delivery over een ander onderwerp dan onze proposal.  \n",
        "\n",
        "Het tweede punt is dat we erg inefficiënt hebben gewerkt in verband met miscommunicatie. Meerdere keren is het voorgekomen dat men dubbel werk heeft verricht, zoals het zoeken naar correlaties of het maken van plots.  \n",
        "\n",
        "## Werkverdeling  \n",
        "\n",
        "**Guido**  \n",
        "Guido heeft ervoor gezorgd dat de teksten goed leesbaar zijn. Verder heeft hij een van de perspectieven, de samenvatting en het stuk over de dataset en de preprocessing geschreven. Ook heeft hij aan de introductie gewerkt.  \n",
        "\n",
        "**Jasper**  \n",
        "Jasper heeft het grootste deel van het coderen gedaan, zoals preprocessing, het vinden van correlaties en het maken van de plots waar gebruik van is gemaakt in de definitieve versie van het project. Verder heeft hij het verhaal rondom de data en plots in goede banen geleid en de introductie met Guido geschreven. Ook heeft hij het project gepresenteerd tijdens het feedbackmoment. Jasper hield de planning bij en had goed overzicht over de te verdelen taken.  \n",
        "\n",
        "**Doede**  \n",
        "Doede heeft een grootste deel van de argumenten uitgewerkt en geholpen bij het bedenken van plots die deze argumenten ondersteunen. Ook heeft hij de feedback bijgehouden.\n",
        "Doede heeft net als Jasper gewerkt aan het vinden van correlaties en het maken van plots, dit is onderdeel van het dubbele werk dat genoemd wordt in de reflectie.  \n",
        "\n",
        "**Teun**  \n",
        "Teun heeft aan de argumenten en de globale verhaallijn gewerkt. Verder heeft hij het stukje feedback en reflectie en deze work distribution geschreven.\n",
        "Teun heeft net als Doede feedback bijgehouden tijdens het feedbackmoment en aan het begin van het project dubbel werk verricht met betrekking tot het zoeken naar correlaties en het maken van plots. Als laatste heeft hij de jupyterbook in elkaar gezet.  \n",
        "\n",
        "## Samenvatting  \n",
        "De corona pandemie heeft wereldwijd een aanzienlijke invloed gehad op zowel de sociale als de economische sectoren. Om deze impact te meten, is er veel data verzameld en in ons onderzoek hebben we ons gericht op vaccinaties, import/export en de stringency index. Uit onze analyse bleek dat vaccinaties mogelijk hebben bijgedragen aan herstel op zowel medisch als economisch gebied. Hoewel er geen direct verband werd gevonden tussen de vaccinatiegraad en het aantal nieuwe corona gevallen, was er economisch herstel zichtbaar in de import- en exportwaarden naarmate de vaccinatiegraad toenam en de overheidsmaatregelen versoepelden. Verdere studie is echter nodig om deze bevindingen te bevestigen en om een dieper inzicht te krijgen in de complexiteit van de relatie tussen vaccinaties, economische activiteit en beleidsmaatregelen gedurende de pandemie.  \n",
        "\n",
        "## Bronnen  \n",
        "\n",
        "Our World in Data. (2024). COVID-19 Data [Data set]. Our World in Data. https://covid.ourworldindata.org/data/owid-covid-data.csv  \n",
        "\n",
        "Amador, J., Gouveia, C. M., & Pimenta, A. C. (2023). COVID-19, lockdowns and international trade: evidence from firm-level data. Empirical Economics, 65(5), 2427–2466. https://doi.org/10.1007/s00181-023-02421-x  \n",
        "\n",
        "COVID-19. (2023, 5 juni). European Centre For Disease Prevention And Control. https://www.ecdc.europa.eu/en/covid-19  \n",
        "\n",
        "COVID-19 vaccination. (z.d.). RIVM. https://www.rivm.nl/en/covid-19-vaccination  \n",
        "\n",
        "Farhansadeed. (z.d.). GitHub - farhansadeed/Python-COVID-19-Trade-Impact-Data-Analysis: This repository contains an analysis of the effects of COVID-19 on trade trends up to December 2021. The dataset used provides daily trade values. We identified annual trends, commodity impacts, transport mode influences, and country-specific effects by using Python, Pandas and Matplotlib. GitHub. https://github.com/farhansadeed/Python-COVID-19-Trade-Impact-Data-Analysis  \n",
        "\n",
        "Netherlands, S. (2023, 3 mei). More strikes but fewer strikers in 2022. Statistics Netherlands. https://www.cbs.nl/en-gb/news/2023/18/more-strikes-but-fewer-strikers-in-2022\n"
      ]
    }
  ],
  "metadata": {
    "colab": {
      "provenance": []
    },
    "kernelspec": {
      "display_name": "Python 3",
      "name": "python3"
    },
    "language_info": {
      "codemirror_mode": {
        "name": "ipython",
        "version": 3
      },
      "file_extension": ".py",
      "mimetype": "text/x-python",
      "name": "python",
      "nbconvert_exporter": "python",
      "pygments_lexer": "ipython3",
      "version": "3.12.0"
    }
  },
  "nbformat": 4,
  "nbformat_minor": 0
}
